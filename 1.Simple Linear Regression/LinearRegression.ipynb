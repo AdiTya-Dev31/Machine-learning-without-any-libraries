{
 "cells": [
  {
   "cell_type": "markdown",
   "metadata": {},
   "source": [
    "# Simple linear regression "
   ]
  },
  {
   "cell_type": "markdown",
   "metadata": {},
   "source": [
    "####  Linear regression class is implemented with Normal equation and Gradient descent methods\n",
    "####  Dataset is downloaded from super data science website. Independent column is Years of experience and Dependent column is Salary"
   ]
  },
  {
   "cell_type": "code",
   "execution_count": 1,
   "metadata": {},
   "outputs": [],
   "source": [
    "import numpy as np;\n",
    "import matplotlib.pyplot as plt;\n",
    "import pandas as pd;"
   ]
  },
  {
   "cell_type": "code",
   "execution_count": 129,
   "metadata": {},
   "outputs": [],
   "source": [
    "class LinearRegression:\n",
    "    def __init__(self,X,Y): \n",
    "        ones=np.ones(X.shape)\n",
    "        X=np.append(ones,X,axis=1)\n",
    "        self.X=X\n",
    "        self.Y=Y\n",
    "        self.m=X.shape[0]\n",
    "        self.n=X.shape[1]\n",
    "        self.theta=np.random.randn(X.shape[1])\n",
    "        \n",
    "    def computeCostFunction(self):\n",
    "        h=np.matmul(self.X,self.theta)\n",
    "        self.J=(1/(2*self.m))*np.sum((h-self.Y)**2)\n",
    "        return self.J\n",
    "    \n",
    "    def performGradientDescent(self,num_of_iter,alpha):\n",
    "        self.Cost_history=[]\n",
    "        self.theta_history=[]\n",
    "        for x in range(num_of_iter):\n",
    "            h=np.matmul(self.X,self.theta)\n",
    "            J=self.computeCostFunction()\n",
    "            self.Cost_history.append(J)\n",
    "            self.theta_history.append(self.theta)\n",
    "            temp=h-self.Y\n",
    "            self.theta=self.theta-(alpha/self.m)*(self.X.T.dot(temp))\n",
    "        return self.theta,self.Cost_history,self.theta_history\n",
    "            \n",
    "        \n",
    "    def predict(self,X_test,Y_test):\n",
    "        ones=np.ones(X_test.shape)\n",
    "        X_test=np.append(ones,X_test,axis=1)\n",
    "        self.Y_pred=np.matmul(X_test,self.theta)\n",
    "        self.error_percentage=(abs(self.Y_pred-Y_test)/Y_test)*100\n",
    "        return self.Y_pred,self.error_percentage\n",
    "    \n",
    "    def predictUsingNormalEquation(self,X_test,Y_test):\n",
    "        ones=np.ones(X_test.shape)\n",
    "        X_test=np.append(ones,X_test,axis=1)\n",
    "        inv=np.linalg.inv(np.matmul(self.X.T,self.X))\n",
    "        self.w=np.matmul(np.matmul(inv,self.X.T),self.Y)\n",
    "        y_pred=np.matmul(X_test,self.w)\n",
    "        return y_pred,(abs(Y_test-y_pred)/Y_test)*100\n",
    "        \n",
    "        \n",
    "    \n",
    "        \n",
    "    def returnTheta(self):\n",
    "        return self.theta\n",
    "    \n",
    "    def returnX(self):\n",
    "        return self.X\n",
    "        \n",
    "    def returnY(self):\n",
    "        return self.Y\n"
   ]
  },
  {
   "cell_type": "code",
   "execution_count": 130,
   "metadata": {},
   "outputs": [
    {
     "name": "stdout",
     "output_type": "stream",
     "text": [
      "    YearsExperience    Salary\n",
      "0               1.1   39343.0\n",
      "1               1.3   46205.0\n",
      "2               1.5   37731.0\n",
      "3               2.0   43525.0\n",
      "4               2.2   39891.0\n",
      "5               2.9   56642.0\n",
      "6               3.0   60150.0\n",
      "7               3.2   54445.0\n",
      "8               3.2   64445.0\n",
      "9               3.7   57189.0\n",
      "10              3.9   63218.0\n",
      "11              4.0   55794.0\n",
      "12              4.0   56957.0\n",
      "13              4.1   57081.0\n",
      "14              4.5   61111.0\n",
      "15              4.9   67938.0\n",
      "16              5.1   66029.0\n",
      "17              5.3   83088.0\n",
      "18              5.9   81363.0\n",
      "19              6.0   93940.0\n",
      "20              6.8   91738.0\n",
      "21              7.1   98273.0\n",
      "22              7.9  101302.0\n",
      "23              8.2  113812.0\n",
      "24              8.7  109431.0\n",
      "25              9.0  105582.0\n",
      "26              9.5  116969.0\n",
      "27              9.6  112635.0\n",
      "28             10.3  122391.0\n",
      "29             10.5  121872.0\n"
     ]
    }
   ],
   "source": [
    "#importing data\n",
    "Data=pd.read_csv('Salary_Data.csv')\n",
    "print(Data)"
   ]
  },
  {
   "cell_type": "code",
   "execution_count": 27,
   "metadata": {},
   "outputs": [
    {
     "data": {
      "text/html": [
       "<div>\n",
       "<style scoped>\n",
       "    .dataframe tbody tr th:only-of-type {\n",
       "        vertical-align: middle;\n",
       "    }\n",
       "\n",
       "    .dataframe tbody tr th {\n",
       "        vertical-align: top;\n",
       "    }\n",
       "\n",
       "    .dataframe thead th {\n",
       "        text-align: right;\n",
       "    }\n",
       "</style>\n",
       "<table border=\"1\" class=\"dataframe\">\n",
       "  <thead>\n",
       "    <tr style=\"text-align: right;\">\n",
       "      <th></th>\n",
       "      <th>YearsExperience</th>\n",
       "      <th>Salary</th>\n",
       "    </tr>\n",
       "  </thead>\n",
       "  <tbody>\n",
       "    <tr>\n",
       "      <th>count</th>\n",
       "      <td>30.000000</td>\n",
       "      <td>30.000000</td>\n",
       "    </tr>\n",
       "    <tr>\n",
       "      <th>mean</th>\n",
       "      <td>5.313333</td>\n",
       "      <td>76003.000000</td>\n",
       "    </tr>\n",
       "    <tr>\n",
       "      <th>std</th>\n",
       "      <td>2.837888</td>\n",
       "      <td>27414.429785</td>\n",
       "    </tr>\n",
       "    <tr>\n",
       "      <th>min</th>\n",
       "      <td>1.100000</td>\n",
       "      <td>37731.000000</td>\n",
       "    </tr>\n",
       "    <tr>\n",
       "      <th>25%</th>\n",
       "      <td>3.200000</td>\n",
       "      <td>56720.750000</td>\n",
       "    </tr>\n",
       "    <tr>\n",
       "      <th>50%</th>\n",
       "      <td>4.700000</td>\n",
       "      <td>65237.000000</td>\n",
       "    </tr>\n",
       "    <tr>\n",
       "      <th>75%</th>\n",
       "      <td>7.700000</td>\n",
       "      <td>100544.750000</td>\n",
       "    </tr>\n",
       "    <tr>\n",
       "      <th>max</th>\n",
       "      <td>10.500000</td>\n",
       "      <td>122391.000000</td>\n",
       "    </tr>\n",
       "  </tbody>\n",
       "</table>\n",
       "</div>"
      ],
      "text/plain": [
       "       YearsExperience         Salary\n",
       "count        30.000000      30.000000\n",
       "mean          5.313333   76003.000000\n",
       "std           2.837888   27414.429785\n",
       "min           1.100000   37731.000000\n",
       "25%           3.200000   56720.750000\n",
       "50%           4.700000   65237.000000\n",
       "75%           7.700000  100544.750000\n",
       "max          10.500000  122391.000000"
      ]
     },
     "execution_count": 27,
     "metadata": {},
     "output_type": "execute_result"
    }
   ],
   "source": [
    "Data.describe()"
   ]
  },
  {
   "cell_type": "code",
   "execution_count": 99,
   "metadata": {},
   "outputs": [
    {
     "data": {
      "image/png": "[encoded data removed]",
      "text/plain": [
       "<Figure size 432x288 with 1 Axes>"
      ]
     },
     "metadata": {},
     "output_type": "display_data"
    }
   ],
   "source": [
    "#plot of dataset\n",
    "plt.scatter(Data.iloc[:,0:1].values,Data.iloc[:,1].values)\n",
    "plt.xlabel('Years of experience')\n",
    "plt.ylabel('Salary')\n",
    "plt.title('Plot of Data set')\n",
    "plt.show()"
   ]
  },
  {
   "cell_type": "code",
   "execution_count": 102,
   "metadata": {},
   "outputs": [
    {
     "name": "stdout",
     "output_type": "stream",
     "text": [
      "Training set size : 21\n",
      "Testing set size : 9\n"
     ]
    }
   ],
   "source": [
    "#training and testing size\n",
    "train_size=int(0.7*Data.shape[0])\n",
    "test_size=int(0.3*Data.shape[0])\n",
    "print(\"Training set size : \"+ str(train_size))\n",
    "print(\"Testing set size : \"+str(test_size))"
   ]
  },
  {
   "cell_type": "code",
   "execution_count": 75,
   "metadata": {},
   "outputs": [
    {
     "name": "stdout",
     "output_type": "stream",
     "text": [
      "(21, 1)\n",
      "(21,)\n"
     ]
    }
   ],
   "source": [
    "#training set split\n",
    "X_train=Data.iloc[0:train_size,0:1].values\n",
    "Y_train=Data.iloc[0:train_size,1].values\n",
    "print(X_train.shape)\n",
    "print(Y_train.shape)"
   ]
  },
  {
   "cell_type": "code",
   "execution_count": 76,
   "metadata": {},
   "outputs": [
    {
     "data": {
      "image/png": "[encoded data removed]",
      "text/plain": [
       "<Figure size 432x288 with 1 Axes>"
      ]
     },
     "metadata": {},
     "output_type": "display_data"
    }
   ],
   "source": [
    "#scatter plot of training set\n",
    "plt.scatter(X_train,Y_train)\n",
    "plt.xlabel('Years of experience')\n",
    "plt.ylabel('Salary')\n",
    "plt.title('Plot of training set')\n",
    "plt.show()"
   ]
  },
  {
   "cell_type": "code",
   "execution_count": 73,
   "metadata": {},
   "outputs": [
    {
     "name": "stdout",
     "output_type": "stream",
     "text": [
      "(9, 1)\n",
      "(9,)\n"
     ]
    }
   ],
   "source": [
    "#testing set split\n",
    "X_test=Data.iloc[train_size:,0:1].values\n",
    "Y_test=Data.iloc[train_size:,1].values\n",
    "print(X_test.shape)\n",
    "print(Y_test.shape)"
   ]
  },
  {
   "cell_type": "code",
   "execution_count": 100,
   "metadata": {},
   "outputs": [
    {
     "data": {
      "image/png": "[encoded data removed]",
      "text/plain": [
       "<Figure size 432x288 with 1 Axes>"
      ]
     },
     "metadata": {},
     "output_type": "display_data"
    }
   ],
   "source": [
    "#scatter plot of testing set\n",
    "plt.scatter(X_test,Y_test)\n",
    "plt.xlabel('Years of experience')\n",
    "plt.ylabel('Salary')\n",
    "plt.title('Plot of testing set')\n",
    "plt.show()"
   ]
  },
  {
   "cell_type": "code",
   "execution_count": 77,
   "metadata": {},
   "outputs": [],
   "source": [
    "lr=LinearRegression(X_train,Y_train)"
   ]
  },
  {
   "cell_type": "code",
   "execution_count": 78,
   "metadata": {},
   "outputs": [
    {
     "name": "stdout",
     "output_type": "stream",
     "text": [
      "[ 0.5896577  -0.56378729]\n"
     ]
    }
   ],
   "source": [
    "theta=lr.returnTheta()\n",
    "print(theta)"
   ]
  },
  {
   "cell_type": "code",
   "execution_count": 87,
   "metadata": {},
   "outputs": [
    {
     "name": "stdout",
     "output_type": "stream",
     "text": [
      "[ 6.28828005  1.74049746 10.08776554  2.23577964  3.97268     2.17075747\n",
      "  2.41983135  0.42126512  1.53012184]\n"
     ]
    }
   ],
   "source": [
    "y_pred_normal,error_percentage=lr.predictUsingNormalEquation(X_test,Y_test)\n",
    "print(error)"
   ]
  },
  {
   "cell_type": "code",
   "execution_count": 80,
   "metadata": {},
   "outputs": [
    {
     "name": "stdout",
     "output_type": "stream",
     "text": [
      "1973733197.7409067\n"
     ]
    }
   ],
   "source": [
    "print(lr.computeCostFunction())"
   ]
  },
  {
   "cell_type": "code",
   "execution_count": 119,
   "metadata": {},
   "outputs": [],
   "source": [
    "#learning parameters\n",
    "n_iter=1000\n",
    "alpha=0.01"
   ]
  },
  {
   "cell_type": "code",
   "execution_count": 120,
   "metadata": {},
   "outputs": [],
   "source": [
    "theta,J_Array,theta_array=lr.performGradientDescent(n_iter,alpha)"
   ]
  },
  {
   "cell_type": "code",
   "execution_count": 121,
   "metadata": {},
   "outputs": [
    {
     "name": "stdout",
     "output_type": "stream",
     "text": [
      "[4.95911997 0.07571477 8.48068289 0.34718242 6.06518211 0.07878139\n",
      " 4.6345027  1.88872187 3.92794853]\n"
     ]
    }
   ],
   "source": [
    "y_pred_grad,ErrorPercentage=lr.predict(X_test,Y_test)\n",
    "print(ErrorPercentage)"
   ]
  },
  {
   "cell_type": "code",
   "execution_count": 122,
   "metadata": {},
   "outputs": [
    {
     "name": "stdout",
     "output_type": "stream",
     "text": [
      "[11.78555624 20.65219683  2.35375766  0.03398984 13.97721233  7.64061432\n",
      " 11.40078943  1.47647903 14.26973542  5.16004586  1.77414269 13.04915295\n",
      " 10.74081218 12.2139877  11.2168906   5.80034989 11.82220775  8.7816178\n",
      "  0.36608894 12.02993095  1.38780194]\n"
     ]
    }
   ],
   "source": [
    "#let's see how train set is predicted\n",
    "y_pred_train,error_for_train=lr.predict(X_train,Y_train)\n",
    "print(error_for_train)"
   ]
  },
  {
   "cell_type": "code",
   "execution_count": 123,
   "metadata": {},
   "outputs": [
    {
     "data": {
      "image/png": "[encoded data removed]",
      "text/plain": [
       "<Figure size 432x288 with 1 Axes>"
      ]
     },
     "metadata": {},
     "output_type": "display_data"
    }
   ],
   "source": [
    "#let's see how train set is predicted using gradient descent\n",
    "plt.scatter(X_train,Y_train)\n",
    "plt.plot(X_train,y_pred_train,'r')\n",
    "plt.xlabel('Years of experience')\n",
    "plt.ylabel('Salary')\n",
    "plt.title('Training set prediction using')\n",
    "plt.show()"
   ]
  },
  {
   "cell_type": "code",
   "execution_count": 128,
   "metadata": {},
   "outputs": [
    {
     "data": {
      "image/png": "[encoded data removed]",
      "text/plain": [
       "<Figure size 432x288 with 1 Axes>"
      ]
     },
     "metadata": {},
     "output_type": "display_data"
    }
   ],
   "source": [
    "#let's see how train set is predicted using normal equation\n",
    "y_pred_train_normal,error_percentage_train_normal=lr.predictUsingNormalEquation(X_train,Y_train)\n",
    "plt.scatter(X_train,Y_train)\n",
    "plt.plot(X_train,y_pred_train_normal,'r')\n",
    "plt.xlabel('X_axis')\n",
    "plt.ylabel('Y_axis')\n",
    "plt.show()"
   ]
  },
  {
   "cell_type": "code",
   "execution_count": 125,
   "metadata": {},
   "outputs": [
    {
     "data": {
      "image/png": "[encoded data removed]",
      "text/plain": [
       "<Figure size 432x288 with 1 Axes>"
      ]
     },
     "metadata": {},
     "output_type": "display_data"
    }
   ],
   "source": [
    "#let's see how test set is predicted using gradient descent\n",
    "plt.scatter(X_test,Y_test)\n",
    "plt.plot(X_test,y_pred_grad,'r')\n",
    "plt.xlabel('X_axis')\n",
    "plt.ylabel('Y_axis')\n",
    "plt.show()"
   ]
  },
  {
   "cell_type": "code",
   "execution_count": 126,
   "metadata": {},
   "outputs": [
    {
     "data": {
      "image/png": "[encoded data removed]",
      "text/plain": [
       "<Figure size 432x288 with 1 Axes>"
      ]
     },
     "metadata": {},
     "output_type": "display_data"
    }
   ],
   "source": [
    "#let's see how test set is predicted using normal equation method\n",
    "plt.scatter(X_test,Y_test)\n",
    "plt.plot(X_test,y_pred_normal,'r')\n",
    "plt.xlabel('X_axis')\n",
    "plt.ylabel('Y_axis')\n",
    "plt.show()"
   ]
  },
  {
   "cell_type": "code",
   "execution_count": 127,
   "metadata": {},
   "outputs": [
    {
     "data": {
      "image/png": "[encoded data removed]",
      "text/plain": [
       "<Figure size 432x288 with 1 Axes>"
      ]
     },
     "metadata": {},
     "output_type": "display_data"
    }
   ],
   "source": [
    "#plot of how cost function is minimized as number of iterations is proceeded\n",
    "x=[i for i in range(1000)]\n",
    "plt.plot(x,J_Array)\n",
    "plt.xlabel('Number of iterations')\n",
    "plt.ylabel('Cost function(J)')\n",
    "plt.show()"
   ]
  },
  {
   "cell_type": "code",
   "execution_count": null,
   "metadata": {},
   "outputs": [],
   "source": []
  }
 ],
 "metadata": {
  "kernelspec": {
   "display_name": "Python 3",
   "language": "python",
   "name": "python3"
  },
  "language_info": {
   "codemirror_mode": {
    "name": "ipython",
    "version": 3
   },
   "file_extension": ".py",
   "mimetype": "text/x-python",
   "name": "python",
   "nbconvert_exporter": "python",
   "pygments_lexer": "ipython3",
   "version": "3.6.5"
  }
 },
 "nbformat": 4,
 "nbformat_minor": 2
}
